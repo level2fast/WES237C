{
 "cells": [
  {
   "cell_type": "markdown",
   "metadata": {},
   "source": [
    "## DFT TESTBENCH\n",
    "\n",
    "This notebook takes two inputs (real and imaginary) and gived the real and imaginary parts of the DFT outputs using AXI-STREAM. It is then compared with software version of FFT"
   ]
  },
  {
   "cell_type": "code",
   "execution_count": 1,
   "metadata": {},
   "outputs": [
    {
     "data": {
      "application/javascript": [
       "\n",
       "try {\n",
       "require(['notebook/js/codecell'], function(codecell) {\n",
       "  codecell.CodeCell.options_default.highlight_modes[\n",
       "      'magic_text/x-csrc'] = {'reg':[/^%%microblaze/]};\n",
       "  Jupyter.notebook.events.one('kernel_ready.Kernel', function(){\n",
       "      Jupyter.notebook.get_cells().map(function(cell){\n",
       "          if (cell.cell_type == 'code'){ cell.auto_highlight(); } }) ;\n",
       "  });\n",
       "});\n",
       "} catch (e) {};\n"
      ]
     },
     "metadata": {},
     "output_type": "display_data"
    },
    {
     "data": {
      "application/javascript": [
       "\n",
       "try {\n",
       "require(['notebook/js/codecell'], function(codecell) {\n",
       "  codecell.CodeCell.options_default.highlight_modes[\n",
       "      'magic_text/x-csrc'] = {'reg':[/^%%pybind11/]};\n",
       "  Jupyter.notebook.events.one('kernel_ready.Kernel', function(){\n",
       "      Jupyter.notebook.get_cells().map(function(cell){\n",
       "          if (cell.cell_type == 'code'){ cell.auto_highlight(); } }) ;\n",
       "  });\n",
       "});\n",
       "} catch (e) {};\n"
      ]
     },
     "metadata": {},
     "output_type": "display_data"
    }
   ],
   "source": [
    "from pynq import Overlay\n",
    "import numpy as np\n",
    "from pynq import allocate\n",
    "from pynq.lib import dma\n",
    "from scipy.linalg import dft\n",
    "import matplotlib.pyplot as plt"
   ]
  },
  {
   "cell_type": "code",
   "execution_count": 2,
   "metadata": {},
   "outputs": [],
   "source": [
    "ol=Overlay('dft.bit')\n",
    "#ol.ip_dict"
   ]
  },
  {
   "cell_type": "code",
   "execution_count": 3,
   "metadata": {},
   "outputs": [
    {
     "data": {
      "text/plain": [
       "RegisterMap {\n",
       "  CTRL = Register(AP_START=0, AP_DONE=0, AP_IDLE=1, AP_READY=0, RESERVED_1=0, AUTO_RESTART=0, RESERVED_2=0, INTERRUPT=0, RESERVED_3=0),\n",
       "  GIER = Register(Enable=0, RESERVED=0),\n",
       "  IP_IER = Register(CHAN0_INT_EN=0, CHAN1_INT_EN=0, RESERVED_0=0),\n",
       "  IP_ISR = Register(CHAN0_INT_ST=0, CHAN1_INT_ST=0, RESERVED_0=0)\n",
       "}"
      ]
     },
     "execution_count": 3,
     "metadata": {},
     "output_type": "execute_result"
    }
   ],
   "source": [
    "# get dma objects\n",
    "dma_0=ol.axi_dma_0\n",
    "dma_0_send = ol.axi_dma_0.sendchannel\n",
    "dma_0_recv = ol.axi_dma_0.recvchannel\n",
    "\n",
    "dma_1 = ol.axi_dma_1\n",
    "dma_1_send = ol.axi_dma_1.sendchannel\n",
    "dma_1_recv = ol.axi_dma_1.recvchannel\n",
    "\n",
    "# get access to overlay\n",
    "dft_ip = ol.dft_0\n",
    "dft_ip.register_map"
   ]
  },
  {
   "cell_type": "code",
   "execution_count": 4,
   "metadata": {},
   "outputs": [],
   "source": [
    "NUM_SAMPLES = 8\n",
    "\n",
    "real_error=np.zeros(NUM_SAMPLES)\n",
    "imag_error=np.zeros(NUM_SAMPLES)\n",
    "#ind=np.arange(NUM_SAMPLES)\n",
    "real_rmse=np.zeros(NUM_SAMPLES)\n",
    "imag_rmse=np.zeros(NUM_SAMPLES)"
   ]
  },
  {
   "cell_type": "code",
   "execution_count": null,
   "metadata": {},
   "outputs": [
    {
     "name": "stdout",
     "output_type": "stream",
     "text": [
      "(1.0, 0.0)\n",
      "(0.5403023, 0.0)\n",
      "(-0.41614684, 0.0)\n",
      "(-0.9899925, 0.0)\n",
      "(-0.6536436, 0.0)\n",
      "(0.2836622, 0.0)\n",
      "(0.96017027, 0.0)\n",
      "(0.75390226, 0.0)\n"
     ]
    }
   ],
   "source": [
    "# get access to overlay\n",
    "dft_ip.write(0x0,0x1)\n",
    "dft_ip.register_map\n",
    "\n",
    "in_r  = allocate(shape=(NUM_SAMPLES,), dtype=np.float32) \n",
    "in_i  = allocate(shape=(NUM_SAMPLES,), dtype=np.float32)           \n",
    "out_r = allocate(shape=(NUM_SAMPLES,), dtype=np.float32) \n",
    "out_i = allocate(shape=(NUM_SAMPLES,), dtype=np.float32)\n",
    "\n",
    "a = [i for i in range(NUM_SAMPLES)]\n",
    "a = np.float32(a)\n",
    "a = np.cos(a)\n",
    "real = a.real                # Change input real and imaginary value here\n",
    "img  = a.imag\n",
    "np.copyto(in_r, real)\n",
    "np.copyto(in_i, img)\n",
    "for i in range(NUM_SAMPLES):\n",
    "     print((in_r[i], in_i[i]))\n"
   ]
  },
  {
   "cell_type": "code",
   "execution_count": null,
   "metadata": {},
   "outputs": [],
   "source": [
    "#Send and recv data \n",
    "dma_1_recv.transfer(out_i)\n",
    "dma_1_send.transfer(in_i)\n",
    "\n",
    "dma_1_send.wait()\n",
    "dma_1_recv.wait() \n",
    "\n",
    "dma_0_recv.transfer(out_r)\n",
    "dma_0_send.transfer(in_r)\n",
    "\n",
    "dma_0_send.wait()\n",
    "dma_0_recv.wait()\n"
   ]
  },
  {
   "cell_type": "markdown",
   "metadata": {},
   "source": [
    "## Verifying Functionality "
   ]
  },
  {
   "cell_type": "code",
   "execution_count": null,
   "metadata": {},
   "outputs": [],
   "source": [
    "golden_op=np.fft.fft(a)\n",
    "\n",
    "for i in range(NUM_SAMPLES):\n",
    "    real_error[i]=\"{0:.6f}\".format(abs(out_r[i]-golden_op.real[i]))\n",
    "    imag_error[i]=\"{0:.6f}\".format(abs(out_i[i]-golden_op.imag[i]))"
   ]
  },
  {
   "cell_type": "code",
   "execution_count": null,
   "metadata": {},
   "outputs": [],
   "source": [
    "sum_sq_real=0\n",
    "sum_sq_imag=0\n",
    "for i in range(NUM_SAMPLES):\n",
    "    sum_sq_real =sum_sq_real+(real_error[i]*real_error[i])\n",
    "    real_rmse = np.sqrt(sum_sq_real / (i+1))\n",
    "    sum_sq_imag =sum_sq_imag+(imag_error[i]*imag_error[i])\n",
    "    imag_rmse = np.sqrt(sum_sq_imag / (i+1))\n",
    "print(\"Real Part RMSE: \", real_rmse, \"Imaginary Part RMSE:\", imag_rmse)    \n",
    "if real_rmse<0.001 and imag_rmse<0.001:\n",
    "    print(\"PASS\")\n",
    "else:\n",
    "    print(\"FAIL\")"
   ]
  },
  {
   "cell_type": "markdown",
   "metadata": {},
   "source": [
    "## Displaying Error and Output"
   ]
  },
  {
   "cell_type": "code",
   "execution_count": null,
   "metadata": {},
   "outputs": [],
   "source": [
    "plt.figure(figsize=(10, 5))\n",
    "plt.subplot(1,2,1)\n",
    "plt.bar(ind,real_error)\n",
    "plt.title(\"Real Part Error\")\n",
    "plt.xlabel(\"Index\")\n",
    "plt.ylabel(\"Error\")\n",
    "#plt.xticks(ind)\n",
    "plt.tight_layout()\n",
    "\n",
    "plt.subplot(1,2,2)\n",
    "plt.bar(ind,imag_error)\n",
    "plt.title(\"Imaginary Part Error\")\n",
    "plt.xlabel(\"Index\")\n",
    "plt.ylabel(\"Error\")\n",
    "#plt.xticks(ind)\n",
    "plt.tight_layout()"
   ]
  },
  {
   "cell_type": "code",
   "execution_count": null,
   "metadata": {},
   "outputs": [],
   "source": [
    "freq=np.fft.fftfreq(NUMSAMPLES)\n",
    "\n",
    "plt.figure(figsize=(7, 4))\n",
    "plt.subplot(1,2,1)\n",
    "plt.plot(freq,out_r,label='real')\n",
    "plt.plot(freq,out_i,label='imag')\n",
    "plt.title(\"512-DFT\")\n",
    "plt.xlabel(\"Frequency\")\n",
    "plt.ylabel(\"DFT real and imaginary data\")\n",
    "plt.legend()\n",
    "plt.tight_layout()\n",
    "plt.subplot(1,2,2)\n",
    "plt.plot(freq,golden_op.real,label='real')\n",
    "plt.plot(freq,golden_op.imag,label='imag')\n",
    "plt.title(\"512-FFT -Numpy\")\n",
    "plt.xlabel(\"Frequency\")\n",
    "plt.ylabel(\"FFT real and imaginary data\")\n",
    "plt.legend()\n",
    "plt.tight_layout()\n",
    "plt.show()"
   ]
  },
  {
   "cell_type": "code",
   "execution_count": null,
   "metadata": {},
   "outputs": [],
   "source": []
  },
  {
   "cell_type": "code",
   "execution_count": null,
   "metadata": {},
   "outputs": [],
   "source": []
  }
 ],
 "metadata": {
  "kernelspec": {
   "display_name": "Python 3",
   "language": "python",
   "name": "python3"
  },
  "language_info": {
   "codemirror_mode": {
    "name": "ipython",
    "version": 3
   },
   "file_extension": ".py",
   "mimetype": "text/x-python",
   "name": "python",
   "nbconvert_exporter": "python",
   "pygments_lexer": "ipython3",
   "version": "3.6.5"
  }
 },
 "nbformat": 4,
 "nbformat_minor": 2
}
