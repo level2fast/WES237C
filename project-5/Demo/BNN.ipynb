{
 "cells": [
  {
   "cell_type": "markdown",
   "metadata": {},
   "source": [
    "## BNN TESTBENCH\n",
    "\n",
    "This notebook takes 25 samples from the MNIST database as input and produces a predicted label using a BNN using AXI4."
   ]
  },
  {
   "cell_type": "code",
   "execution_count": 1,
   "metadata": {},
   "outputs": [
    {
     "data": {
      "application/javascript": [
       "\n",
       "try {\n",
       "require(['notebook/js/codecell'], function(codecell) {\n",
       "  codecell.CodeCell.options_default.highlight_modes[\n",
       "      'magic_text/x-csrc'] = {'reg':[/^%%microblaze/]};\n",
       "  Jupyter.notebook.events.one('kernel_ready.Kernel', function(){\n",
       "      Jupyter.notebook.get_cells().map(function(cell){\n",
       "          if (cell.cell_type == 'code'){ cell.auto_highlight(); } }) ;\n",
       "  });\n",
       "});\n",
       "} catch (e) {};\n"
      ]
     },
     "metadata": {},
     "output_type": "display_data"
    },
    {
     "data": {
      "application/javascript": [
       "\n",
       "try {\n",
       "require(['notebook/js/codecell'], function(codecell) {\n",
       "  codecell.CodeCell.options_default.highlight_modes[\n",
       "      'magic_text/x-csrc'] = {'reg':[/^%%pybind11/]};\n",
       "  Jupyter.notebook.events.one('kernel_ready.Kernel', function(){\n",
       "      Jupyter.notebook.get_cells().map(function(cell){\n",
       "          if (cell.cell_type == 'code'){ cell.auto_highlight(); } }) ;\n",
       "  });\n",
       "});\n",
       "} catch (e) {};\n"
      ]
     },
     "metadata": {},
     "output_type": "display_data"
    }
   ],
   "source": [
    "from pynq import Overlay\n",
    "import numpy as np\n",
    "from numpy import array\n",
    "from pynq import allocate\n",
    "from pynq.lib import dma\n",
    "from scipy.linalg import dft\n",
    "import matplotlib.pyplot as plt\n",
    "import time"
   ]
  },
  {
   "cell_type": "code",
   "execution_count": 2,
   "metadata": {},
   "outputs": [],
   "source": [
    "ol=Overlay('bnn.bit')"
   ]
  },
  {
   "cell_type": "code",
   "execution_count": 3,
   "metadata": {},
   "outputs": [],
   "source": [
    "NUM_SAMPLES = 25\n",
    "NUM_SAMPLES_OUT = 10"
   ]
  },
  {
   "cell_type": "code",
   "execution_count": 4,
   "metadata": {},
   "outputs": [],
   "source": [
    "in_s1 = allocate(shape=(NUM_SAMPLES,), dtype=np.uint)     \n",
    "out_s1 = allocate(shape=(NUM_SAMPLES_OUT,), dtype=np.int)\n",
    "\n",
    "in_s2 = allocate(shape=(NUM_SAMPLES,), dtype=np.uint)     \n",
    "out_s2 = allocate(shape=(NUM_SAMPLES_OUT,), dtype=np.int)\n",
    "\n",
    "in_s3 = allocate(shape=(NUM_SAMPLES,), dtype=np.uint)     \n",
    "out_s3 = allocate(shape=(NUM_SAMPLES_OUT,), dtype=np.int)\n",
    "\n",
    "s1arr = array([4294967295, 4294967295, 4294967295, 4294967295, 4294967295, \\\n",
    "               4294967295, 4290838527, 4227859455, 3221241855, 3758358527, \\\n",
    "               4232052735, 2281701368, 2147483407, 4294963455, 4294844415, \\\n",
    "               4293132287, 4232052735, 2281701360, 2147483407, 4294959359, \\\n",
    "               4294844415, 4290904063, 4229955583, 3288334335, 4294901760], dtype=np.uint)\n",
    "\n",
    "s2arr = array([4294967295, 4294967295, 4294967292,  134217600, 1073737731,\n",
    "               4294837311, 4292985855, 4282138623, 4286840831, 4034920447, \\\n",
    "               268435424, 4294966303, 4294951935, 4294459391, 4278714367, \\\n",
    "               4034920447,  268435440,   67239680,    2093056,   33521671, \\\n",
    "               4294967295, 4294967295, 4294967295, 4294967295, 4294901760], dtype=np.uint)\n",
    "\n",
    "s3arr = array([4294967295, 4294967295, 4294967295, 4294967295,  536870897, \\\n",
    "               4294967103, 4294960127, 4294852607, 4293132287, 4236247039, \\\n",
    "               3355443196, 2147483527, 4294965503, 4294938623, 4294049791, \\\n",
    "               4280287231, 4060086271,  536870881, 4294966815, 4294951935, \\\n",
    "               4294721535, 4294967295, 4294967295, 4294967295, 4294901760], dtype=np.uint)\n",
    "\n",
    "np.copyto(in_s1, s1arr)\n",
    "np.copyto(in_s2, s2arr)\n",
    "np.copyto(in_s3, s3arr)"
   ]
  },
  {
   "cell_type": "code",
   "execution_count": 5,
   "metadata": {},
   "outputs": [],
   "source": [
    "hls_out_s1 = np.zeros((NUM_SAMPLES_OUT),dtype=np.int32)\n",
    "bnn_ip = ol.bnn_0\n",
    "bnn_ip.write(0x10,in_s1.physical_address)\n",
    "bnn_ip.write(0x1c,out_s1.physical_address)\n",
    "bnn_ip.write(0x00,1)\n",
    "np.copyto(hls_out_s1,out_s1)\n",
    "\n",
    "hls_out_s2 = np.zeros((NUM_SAMPLES_OUT),dtype=np.int32)\n",
    "bnn_ip.write(0x10,in_s2.physical_address)\n",
    "bnn_ip.write(0x1c,out_s2.physical_address)\n",
    "bnn_ip.write(0x00,1)\n",
    "np.copyto(hls_out_s2,out_s2)\n",
    "\n",
    "hls_out_s3 = np.zeros((NUM_SAMPLES_OUT),dtype=np.int32)\n",
    "bnn_ip.write(0x10,in_s3.physical_address)\n",
    "bnn_ip.write(0x1c,out_s3.physical_address)\n",
    "bnn_ip.write(0x00,1)\n",
    "np.copyto(hls_out_s3,out_s3)"
   ]
  },
  {
   "cell_type": "markdown",
   "metadata": {},
   "source": [
    "## Verifying Functionality "
   ]
  },
  {
   "cell_type": "code",
   "execution_count": 6,
   "metadata": {},
   "outputs": [],
   "source": [
    "# golden output samples\n",
    "golden_out_s1 = [-2,   4,  -8,  14,  -4,   0, -42,  48,  -4,   2]\n",
    "golden_out_s2 = [2,   0,  48,  10, -20,   4,   2, -16,   4, -14]\n",
    "golden_out_s3 = [-16,  42,   2,   4,  -2, -14,   8,   2,  14,  -8]"
   ]
  },
  {
   "cell_type": "code",
   "execution_count": 7,
   "metadata": {},
   "outputs": [
    {
     "name": "stdout",
     "output_type": "stream",
     "text": [
      "hls_out_s1:  -2\n",
      "golden_out:  -2\n",
      "======\n",
      "hls_out_s1:  4\n",
      "golden_out:  4\n",
      "======\n",
      "hls_out_s1:  -8\n",
      "golden_out:  -8\n",
      "======\n",
      "hls_out_s1:  14\n",
      "golden_out:  14\n",
      "======\n",
      "hls_out_s1:  -4\n",
      "golden_out:  -4\n",
      "======\n",
      "hls_out_s1:  0\n",
      "golden_out:  0\n",
      "======\n",
      "hls_out_s1:  -42\n",
      "golden_out:  -42\n",
      "======\n",
      "hls_out_s1:  48\n",
      "golden_out:  48\n",
      "======\n",
      "hls_out_s1:  -4\n",
      "golden_out:  -4\n",
      "======\n",
      "hls_out_s1:  2\n",
      "golden_out:  2\n",
      "======\n",
      "TRUE LABEL: 7\n",
      "PASS\n"
     ]
    }
   ],
   "source": [
    "NUM_SAMPLES_OUT=10\n",
    "PASS=True\n",
    "for i in range(NUM_SAMPLES_OUT):\n",
    "    print(\"hls_out_s1: \",hls_out_s1[i])\n",
    "    print(\"golden_out: \", golden_out_s1[i])\n",
    "    print(\"======\")\n",
    "    if (golden_out_s1[i] != hls_out_s1[i]):\n",
    "        PASS=False\n",
    "        \n",
    "print(\"TRUE LABEL: 7\")\n",
    "\n",
    "if (PASS == True):\n",
    "    print(\"PASS\")\n",
    "else:\n",
    "    print(\"FAIL\")"
   ]
  },
  {
   "cell_type": "markdown",
   "metadata": {},
   "source": [
    "## Displaying Error and Output"
   ]
  },
  {
   "cell_type": "code",
   "execution_count": 8,
   "metadata": {},
   "outputs": [
    {
     "name": "stdout",
     "output_type": "stream",
     "text": [
      "hls_out_s2:  2\n",
      "golden_out:  2\n",
      "======\n",
      "hls_out_s2:  0\n",
      "golden_out:  0\n",
      "======\n",
      "hls_out_s2:  48\n",
      "golden_out:  48\n",
      "======\n",
      "hls_out_s2:  10\n",
      "golden_out:  10\n",
      "======\n",
      "hls_out_s2:  -20\n",
      "golden_out:  -20\n",
      "======\n",
      "hls_out_s2:  4\n",
      "golden_out:  4\n",
      "======\n",
      "hls_out_s2:  2\n",
      "golden_out:  2\n",
      "======\n",
      "hls_out_s2:  -16\n",
      "golden_out:  -16\n",
      "======\n",
      "hls_out_s2:  4\n",
      "golden_out:  4\n",
      "======\n",
      "hls_out_s2:  -14\n",
      "golden_out:  -14\n",
      "======\n",
      "TRUE LABEL: 2\n",
      "PASS\n"
     ]
    }
   ],
   "source": [
    "PASS=True\n",
    "for i in range(NUM_SAMPLES_OUT):\n",
    "    print(\"hls_out_s2: \",hls_out_s2[i])\n",
    "    print(\"golden_out: \", golden_out_s2[i])\n",
    "    print(\"======\")\n",
    "    if (golden_out_s2[i] != hls_out_s2[i]):\n",
    "        PASS=False\n",
    "\n",
    "print(\"TRUE LABEL: 2\")\n",
    "        \n",
    "if (PASS == True):\n",
    "    print(\"PASS\")\n",
    "else:\n",
    "    print(\"FAIL\")"
   ]
  },
  {
   "cell_type": "code",
   "execution_count": 9,
   "metadata": {},
   "outputs": [
    {
     "name": "stdout",
     "output_type": "stream",
     "text": [
      "hls_out_s3:  -16\n",
      "golden_out:  -16\n",
      "======\n",
      "hls_out_s3:  42\n",
      "golden_out:  42\n",
      "======\n",
      "hls_out_s3:  2\n",
      "golden_out:  2\n",
      "======\n",
      "hls_out_s3:  4\n",
      "golden_out:  4\n",
      "======\n",
      "hls_out_s3:  -2\n",
      "golden_out:  -2\n",
      "======\n",
      "hls_out_s3:  -14\n",
      "golden_out:  -14\n",
      "======\n",
      "hls_out_s3:  8\n",
      "golden_out:  8\n",
      "======\n",
      "hls_out_s3:  2\n",
      "golden_out:  2\n",
      "======\n",
      "hls_out_s3:  14\n",
      "golden_out:  14\n",
      "======\n",
      "hls_out_s3:  -8\n",
      "golden_out:  -8\n",
      "======\n",
      "TRUE LABEL: 1\n",
      "PASS\n"
     ]
    }
   ],
   "source": [
    "PASS=True\n",
    "for i in range(NUM_SAMPLES_OUT):\n",
    "    print(\"hls_out_s3: \",hls_out_s3[i])\n",
    "    print(\"golden_out: \", golden_out_s3[i])\n",
    "    print(\"======\")\n",
    "    if (golden_out_s3[i] != hls_out_s3[i]):\n",
    "        PASS=False\n",
    "\n",
    "print(\"TRUE LABEL: 1\")\n",
    "\n",
    "if (PASS == True):\n",
    "    print(\"PASS\")\n",
    "else:\n",
    "    print(\"FAIL\")"
   ]
  },
  {
   "cell_type": "code",
   "execution_count": null,
   "metadata": {},
   "outputs": [],
   "source": []
  },
  {
   "cell_type": "code",
   "execution_count": null,
   "metadata": {},
   "outputs": [],
   "source": []
  },
  {
   "cell_type": "code",
   "execution_count": null,
   "metadata": {},
   "outputs": [],
   "source": []
  }
 ],
 "metadata": {
  "kernelspec": {
   "display_name": "Python 3",
   "language": "python",
   "name": "python3"
  },
  "language_info": {
   "codemirror_mode": {
    "name": "ipython",
    "version": 3
   },
   "file_extension": ".py",
   "mimetype": "text/x-python",
   "name": "python",
   "nbconvert_exporter": "python",
   "pygments_lexer": "ipython3",
   "version": "3.6.5"
  }
 },
 "nbformat": 4,
 "nbformat_minor": 2
}
